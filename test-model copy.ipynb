{
 "cells": [
  {
   "cell_type": "code",
   "execution_count": 105,
   "metadata": {},
   "outputs": [],
   "source": [
    "# import load_model\n",
    "from tensorflow.keras.models import load_model\n",
    "\n",
    "import numpy as np\n",
    "import pandas as pd"
   ]
  },
  {
   "cell_type": "code",
   "execution_count": 106,
   "metadata": {},
   "outputs": [],
   "source": [
    "# load AI model from Models\n",
    "model = load_model(\"./Results/progress/Fourth_model/models/model_20230112-180708_final.h5\")"
   ]
  },
  {
   "cell_type": "code",
   "execution_count": 107,
   "metadata": {},
   "outputs": [
    {
     "name": "stderr",
     "output_type": "stream",
     "text": [
      "/tmp/ipykernel_2761910/4117980202.py:13: VisibleDeprecationWarning: Creating an ndarray from ragged nested sequences (which is a list-or-tuple of lists-or-tuples-or ndarrays with different lengths or shapes) is deprecated. If you meant to do this, you must specify 'dtype=object' when creating the ndarray.\n",
      "  sequences = np.array(sequences)\n"
     ]
    }
   ],
   "source": [
    "# read data from file into pandas dataframe\n",
    "df = pd.read_csv(\"./Data/dataset/VETUSDT.csv\")\n",
    "\n",
    "\n",
    "LOOKBACK_WINDOW = 15\n",
    "\n",
    "# create sequences from dataframe\n",
    "sequences = []\n",
    "for i in range(LOOKBACK_WINDOW - 1, len(df)):\n",
    "    sequences.append(df[i:i+LOOKBACK_WINDOW])\n",
    "\n",
    "# create numpy array from sequences\n",
    "sequences = np.array(sequences)\n",
    "\n",
    "\n"
   ]
  },
  {
   "cell_type": "code",
   "execution_count": 108,
   "metadata": {},
   "outputs": [],
   "source": [
    "first_item = sequences[0]\n",
    "first_item = pd.DataFrame(first_item)\n",
    "\n",
    "original_items = ['event_time','original_open', 'original_close', 'original_high', 'original_low', 'original_volume']\n",
    "\n",
    "\n",
    "# create nice comment that explains what this function does\n",
    "\n",
    "# Receives an index and returns the data for the training and for the environment\n",
    "def get_train_env_data(data, index):\n",
    "    item = pd.DataFrame(data[i])\n",
    "    return item[original_items], item.drop(original_items, axis=1)"
   ]
  },
  {
   "cell_type": "code",
   "execution_count": 109,
   "metadata": {},
   "outputs": [
    {
     "name": "stdout",
     "output_type": "stream",
     "text": [
      "    average_reward   epsilon  balance   episode  time_train  steps\n",
      "0      -629.809005  0.931000        0  3.447417         129    NaN\n",
      "1      -491.603222  0.884450        1  0.936605         133    NaN\n",
      "2      -318.728680  0.840227        2  0.964283         117    NaN\n",
      "3      -206.134153  0.798216        3  0.984694         136    NaN\n",
      "4      -138.114934  0.758305        4  0.946212         152    NaN\n",
      "5      -112.085894  0.720390        5  0.901414         180    NaN\n",
      "6       -85.287294  0.684371        6  0.946668         156    NaN\n",
      "7       -54.420339  0.650152        7  0.973154         194    NaN\n",
      "8       -39.759302  0.617644        8  0.978177         209    NaN\n",
      "9       -20.314286  0.586762        9  1.014463         192    NaN\n",
      "10       -5.752975  0.557424       10  0.874133         219    NaN\n",
      "11        3.512877  0.529553       11  0.987288         247    NaN\n",
      "12       19.710523  0.503075       12  0.886416         257    NaN\n",
      "13       43.751553  0.477921       13  0.958568         230    NaN\n",
      "14       69.552991  0.454025       14  0.850468         207    NaN\n",
      "15       86.177748  0.431324       15  0.931823         191    NaN\n",
      "16       86.452245  0.409758       16  0.985524         255    NaN\n",
      "17       93.436961  0.389270       17  0.982688         250    NaN\n",
      "18       98.216209  0.369807       18  0.976844         259    NaN\n",
      "19      113.236416  0.351316       19  0.836093         306    NaN\n",
      "20      139.928598  0.333750       20  0.967802         300    NaN\n",
      "21      144.585262  0.317063       21  0.961166         244    NaN\n",
      "22      142.746200  0.301210       22  0.982435         243    NaN\n",
      "23      142.235259  0.286149       23  0.980165         202    NaN\n",
      "24      132.994540  0.271842       24  0.907496         146    NaN\n",
      "25      109.797097  0.258250       25  1.009238         198    NaN\n",
      "26       73.124466  0.245337       26  0.907211         185    NaN\n",
      "27       34.995081  0.233070       27  0.957231         237    NaN\n",
      "28        9.969928  0.221417       28  0.951008         311    NaN\n",
      "29       -3.107480  0.210346       29  0.896765         228    NaN\n",
      "30      -26.220421  0.199829       30  0.976206         289    NaN\n",
      "31      -49.072524  0.189837       31  0.924418         187    NaN\n",
      "32      -52.098609  0.180345       32  0.916743         179    NaN\n",
      "33      -45.063394  0.171328       33  0.881635         208    NaN\n",
      "34      -38.627145  0.162762       34  0.893897         204    NaN\n",
      "35      -34.669773  0.154624       35  0.964268         232    NaN\n",
      "36      -30.352709  0.146892       36  0.871638         179    NaN\n",
      "37      -26.756005  0.139548       37  0.921813         234    NaN\n",
      "38      -22.930522  0.132570       38  0.920331         167    NaN\n",
      "39      -17.045792  0.125942       39  0.985687         285    NaN\n",
      "40      -12.649765  0.119645       40  0.941096         176    NaN\n",
      "41      -10.634565  0.113663       41  0.858063         126    NaN\n",
      "42       -6.231696  0.107979       42  0.938846         227    NaN\n",
      "43       -1.065689  0.102580       43  0.952452         195    NaN\n",
      "44        6.283574  0.097451       44  0.963675         302    NaN\n",
      "45       12.727787  0.092579       45  0.974807         245    NaN\n",
      "46       16.830858  0.087950       46  0.954883         269    NaN\n",
      "47       21.845471  0.083552       47  0.923881         193    NaN\n",
      "48       27.333216  0.079375       48  0.960239         351    NaN\n",
      "49       36.892779  0.075406       49  0.918722         586    NaN\n"
     ]
    }
   ],
   "source": [
    "from matplotlib import pyplot as plt\n",
    "# plot data from csv file\n",
    "def plot_data(data):\n",
    "    plt.plot(data)\n",
    "    plt.xlabel(\"Episode\")\n",
    "    plt.legend([\"Average Reward\"])\n",
    "    plt.show()\n",
    "\n",
    "training_history = pd.read_csv(\"./Results/progress/Fourth_model/reward_history_20230112-180708.csv\")\n",
    "print(training_history)\n",
    "\n",
    "plot_data(training_history['average_reward'])"
   ]
  },
  {
   "cell_type": "code",
   "execution_count": 94,
   "metadata": {},
   "outputs": [
    {
     "name": "stderr",
     "output_type": "stream",
     "text": [
      "100%|██████████| 300/300 [00:11<00:00, 26.14it/s]\n"
     ]
    }
   ],
   "source": [
    "from enum import Enum\n",
    "from tqdm import tqdm\n",
    "class ActionSpace(Enum):\n",
    "    BUY = 0\n",
    "    HOLD = 1\n",
    "    SELL = 2\n",
    "\n",
    "\n",
    "# loop through all sequences and predict buy hold or sell and put the results on a graph\n",
    "buy_sells = []\n",
    "for i in tqdm(range(0, len(sequences[:300]))):\n",
    "    train, env = get_train_env_data(sequences, i)\n",
    "    env = env.to_numpy()\n",
    "    prediction = model.predict(env.reshape(1, 15, 17), verbose=0)\n",
    "    action = ActionSpace(np.argmax(prediction[0]))\n",
    "    buy_sells.append((train.iloc[-1], action, i))\n",
    "\n",
    "# create a graph with the buy and sell points candlesticks\n",
    "\n",
    "\n"
   ]
  },
  {
   "cell_type": "code",
   "execution_count": null,
   "metadata": {},
   "outputs": [],
   "source": [
    "print(buy_sells)"
   ]
  },
  {
   "cell_type": "code",
   "execution_count": 97,
   "metadata": {},
   "outputs": [],
   "source": [
    "def plot_buy_sell(data):\n",
    "    plt.figure()\n",
    "\n",
    "    width = .4\n",
    "    width2 = .04\n",
    "\n",
    "    #define colors to use\n",
    "    col1 = 'green'\n",
    "    col2 = 'red'\n",
    "\n",
    "    for i in range(0, len(data)):\n",
    "        item = data[i]\n",
    "        item_candlestick = item[0]\n",
    "        action = item[1]\n",
    "        index = item[2]\n",
    "\n",
    "        if action == ActionSpace.BUY:\n",
    "            plt.plot(index, item_candlestick['original_close'], 'y+')\n",
    "        elif action == ActionSpace.SELL:\n",
    "            plt.plot(index, item_candlestick['original_close'], 'b-')\n",
    "\n",
    "        if item_candlestick['original_close'] >= item_candlestick['original_open']:\n",
    "            height = item_candlestick['original_close'] - item_candlestick['original_open']\n",
    "            height_max = item_candlestick['original_high'] - item_candlestick['original_low']\n",
    "            plt.bar(index, height, width, item_candlestick['original_open'], color=col1)\n",
    "            plt.bar(index, height_max, width2, item_candlestick['original_open'], color=col1)\n",
    "        else:\n",
    "            height = item_candlestick['original_open'] - item_candlestick['original_close']\n",
    "            height_max = item_candlestick['original_high'] - item_candlestick['original_low']\n",
    "            plt.bar(index, height, width,  item_candlestick['original_close'], color=col2)\n",
    "            plt.bar(index, height_max, width2,  item_candlestick['original_close'], color=col2)\n",
    "\n",
    "    plt.ylabel(\"Price\")\n",
    "\n",
    "    plt.xlabel(\"Minutes\")\n",
    "\n",
    "    plt.show()\n",
    "\n",
    "\n",
    "%matplotlib tk\n",
    "plot_buy_sell(buy_sells)\n",
    "\n",
    "\n"
   ]
  },
  {
   "cell_type": "code",
   "execution_count": 53,
   "metadata": {},
   "outputs": [
    {
     "data": {
      "text/html": [
       "\n",
       "      <iframe id=\"tensorboard-frame-6fece9395cff807c\" width=\"100%\" height=\"800\" frameborder=\"0\">\n",
       "      </iframe>\n",
       "      <script>\n",
       "        (function() {\n",
       "          const frame = document.getElementById(\"tensorboard-frame-6fece9395cff807c\");\n",
       "          const url = new URL(\"/\", window.location);\n",
       "          const port = 6006;\n",
       "          if (port) {\n",
       "            url.port = port;\n",
       "          }\n",
       "          frame.src = url;\n",
       "        })();\n",
       "      </script>\n",
       "    "
      ],
      "text/plain": [
       "<IPython.core.display.HTML object>"
      ]
     },
     "metadata": {},
     "output_type": "display_data"
    }
   ],
   "source": [
    "%load_ext tensorboard\n",
    "%tensorboard --logdir Training/logs/fit"
   ]
  }
 ],
 "metadata": {
  "kernelspec": {
   "display_name": "base",
   "language": "python",
   "name": "python3"
  },
  "language_info": {
   "codemirror_mode": {
    "name": "ipython",
    "version": 3
   },
   "file_extension": ".py",
   "mimetype": "text/x-python",
   "name": "python",
   "nbconvert_exporter": "python",
   "pygments_lexer": "ipython3",
   "version": "3.9.13 (main, Aug 25 2022, 23:26:10) \n[GCC 11.2.0]"
  },
  "orig_nbformat": 4,
  "vscode": {
   "interpreter": {
    "hash": "62fd54318f6a2fa08be4eeaf7e2f88489af61833aae47133177ad67efbdf279b"
   }
  }
 },
 "nbformat": 4,
 "nbformat_minor": 2
}
