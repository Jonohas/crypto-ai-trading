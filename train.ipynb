{
 "cells": [
  {
   "cell_type": "code",
   "execution_count": 5,
   "metadata": {},
   "outputs": [],
   "source": [
    "import os\n",
    "import time\n",
    "import numpy as np\n",
    "import csv\n",
    "import tqdm\n",
    "import pandas as pd"
   ]
  },
  {
   "cell_type": "code",
   "execution_count": 7,
   "metadata": {},
   "outputs": [
    {
     "data": {
      "text/html": [
       "<div>\n",
       "<style scoped>\n",
       "    .dataframe tbody tr th:only-of-type {\n",
       "        vertical-align: middle;\n",
       "    }\n",
       "\n",
       "    .dataframe tbody tr th {\n",
       "        vertical-align: top;\n",
       "    }\n",
       "\n",
       "    .dataframe thead th {\n",
       "        text-align: right;\n",
       "    }\n",
       "</style>\n",
       "<table border=\"1\" class=\"dataframe\">\n",
       "  <thead>\n",
       "    <tr style=\"text-align: right;\">\n",
       "      <th></th>\n",
       "      <th>event_time</th>\n",
       "      <th>open</th>\n",
       "      <th>close</th>\n",
       "      <th>high</th>\n",
       "      <th>low</th>\n",
       "      <th>volume</th>\n",
       "    </tr>\n",
       "  </thead>\n",
       "  <tbody>\n",
       "    <tr>\n",
       "      <th>0</th>\n",
       "      <td>1635847380000</td>\n",
       "      <td>0.000251</td>\n",
       "      <td>0.000251</td>\n",
       "      <td>0.000251</td>\n",
       "      <td>0.000251</td>\n",
       "      <td>37758.0</td>\n",
       "    </tr>\n",
       "    <tr>\n",
       "      <th>1</th>\n",
       "      <td>1635847440000</td>\n",
       "      <td>0.000251</td>\n",
       "      <td>0.000251</td>\n",
       "      <td>0.000251</td>\n",
       "      <td>0.000251</td>\n",
       "      <td>0.0</td>\n",
       "    </tr>\n",
       "    <tr>\n",
       "      <th>2</th>\n",
       "      <td>1635847500000</td>\n",
       "      <td>0.000251</td>\n",
       "      <td>0.000251</td>\n",
       "      <td>0.000251</td>\n",
       "      <td>0.000251</td>\n",
       "      <td>0.0</td>\n",
       "    </tr>\n",
       "    <tr>\n",
       "      <th>3</th>\n",
       "      <td>1635847560000</td>\n",
       "      <td>0.000251</td>\n",
       "      <td>0.000251</td>\n",
       "      <td>0.000251</td>\n",
       "      <td>0.000251</td>\n",
       "      <td>4468.0</td>\n",
       "    </tr>\n",
       "    <tr>\n",
       "      <th>4</th>\n",
       "      <td>1635847620000</td>\n",
       "      <td>0.000251</td>\n",
       "      <td>0.000252</td>\n",
       "      <td>0.000252</td>\n",
       "      <td>0.000251</td>\n",
       "      <td>36245.0</td>\n",
       "    </tr>\n",
       "  </tbody>\n",
       "</table>\n",
       "</div>"
      ],
      "text/plain": [
       "      event_time      open     close      high       low   volume\n",
       "0  1635847380000  0.000251  0.000251  0.000251  0.000251  37758.0\n",
       "1  1635847440000  0.000251  0.000251  0.000251  0.000251      0.0\n",
       "2  1635847500000  0.000251  0.000251  0.000251  0.000251      0.0\n",
       "3  1635847560000  0.000251  0.000251  0.000251  0.000251   4468.0\n",
       "4  1635847620000  0.000251  0.000252  0.000252  0.000251  36245.0"
      ]
     },
     "execution_count": 7,
     "metadata": {},
     "output_type": "execute_result"
    }
   ],
   "source": [
    "df = pd.read_csv('Data/dataset/VETBNB.csv')\n",
    "df.head()"
   ]
  },
  {
   "cell_type": "code",
   "execution_count": 11,
   "metadata": {},
   "outputs": [
    {
     "data": {
      "text/html": [
       "<div>\n",
       "<style scoped>\n",
       "    .dataframe tbody tr th:only-of-type {\n",
       "        vertical-align: middle;\n",
       "    }\n",
       "\n",
       "    .dataframe tbody tr th {\n",
       "        vertical-align: top;\n",
       "    }\n",
       "\n",
       "    .dataframe thead th {\n",
       "        text-align: right;\n",
       "    }\n",
       "</style>\n",
       "<table border=\"1\" class=\"dataframe\">\n",
       "  <thead>\n",
       "    <tr style=\"text-align: right;\">\n",
       "      <th></th>\n",
       "      <th>event_time</th>\n",
       "      <th>open</th>\n",
       "      <th>close</th>\n",
       "      <th>high</th>\n",
       "      <th>low</th>\n",
       "      <th>volume</th>\n",
       "    </tr>\n",
       "  </thead>\n",
       "  <tbody>\n",
       "    <tr>\n",
       "      <th>0</th>\n",
       "      <td>1635847380000</td>\n",
       "      <td>0.000251</td>\n",
       "      <td>0.000251</td>\n",
       "      <td>0.000251</td>\n",
       "      <td>0.000251</td>\n",
       "      <td>37758.0</td>\n",
       "    </tr>\n",
       "    <tr>\n",
       "      <th>1</th>\n",
       "      <td>1635847440000</td>\n",
       "      <td>0.000251</td>\n",
       "      <td>0.000251</td>\n",
       "      <td>0.000251</td>\n",
       "      <td>0.000251</td>\n",
       "      <td>0.0</td>\n",
       "    </tr>\n",
       "    <tr>\n",
       "      <th>2</th>\n",
       "      <td>1635847500000</td>\n",
       "      <td>0.000251</td>\n",
       "      <td>0.000251</td>\n",
       "      <td>0.000251</td>\n",
       "      <td>0.000251</td>\n",
       "      <td>0.0</td>\n",
       "    </tr>\n",
       "    <tr>\n",
       "      <th>3</th>\n",
       "      <td>1635847560000</td>\n",
       "      <td>0.000251</td>\n",
       "      <td>0.000251</td>\n",
       "      <td>0.000251</td>\n",
       "      <td>0.000251</td>\n",
       "      <td>4468.0</td>\n",
       "    </tr>\n",
       "    <tr>\n",
       "      <th>4</th>\n",
       "      <td>1635847620000</td>\n",
       "      <td>0.000251</td>\n",
       "      <td>0.000252</td>\n",
       "      <td>0.000252</td>\n",
       "      <td>0.000251</td>\n",
       "      <td>36245.0</td>\n",
       "    </tr>\n",
       "  </tbody>\n",
       "</table>\n",
       "</div>"
      ],
      "text/plain": [
       "      event_time      open     close      high       low   volume\n",
       "0  1635847380000  0.000251  0.000251  0.000251  0.000251  37758.0\n",
       "1  1635847440000  0.000251  0.000251  0.000251  0.000251      0.0\n",
       "2  1635847500000  0.000251  0.000251  0.000251  0.000251      0.0\n",
       "3  1635847560000  0.000251  0.000251  0.000251  0.000251   4468.0\n",
       "4  1635847620000  0.000251  0.000252  0.000252  0.000251  36245.0"
      ]
     },
     "execution_count": 11,
     "metadata": {},
     "output_type": "execute_result"
    }
   ],
   "source": [
    "# remove empty rows\n",
    "df = df.dropna()\n",
    "df.head()"
   ]
  },
  {
   "cell_type": "code",
   "execution_count": 22,
   "metadata": {},
   "outputs": [],
   "source": [
    "# import keras\n",
    "import tensorflow as tf\n",
    "from tensorflow import keras\n",
    "from tensorflow.keras import layers\n",
    "from sklearn.model_selection import train_test_split"
   ]
  },
  {
   "cell_type": "code",
   "execution_count": 23,
   "metadata": {},
   "outputs": [],
   "source": [
    "# model params\n",
    "batch_size = 32\n",
    "seq_len = 60\n",
    "learning_rate = 0.001\n",
    "epochs = 10\n",
    "\n",
    "# split data into train and test sets\n",
    "train_size = 0.9\n",
    "X_train, X_test, y_train, y_test = train_test_split(df, train_size=train_size, shuffle=False)\n"
   ]
  },
  {
   "cell_type": "code",
   "execution_count": 18,
   "metadata": {},
   "outputs": [],
   "source": [
    "# creating the model\n",
    "model = keras.Sequential()\n",
    "model.add(layers.LSTM(64, input_shape=(None, df.shape[1])))\n",
    "model.add(layers.BatchNormalization())\n",
    "model.add(layers.Dense(10))\n",
    "\n",
    "model.compile(optimizer='adam', loss='mse', metrics=['mae', 'accuracy'])"
   ]
  },
  {
   "cell_type": "code",
   "execution_count": null,
   "metadata": {},
   "outputs": [],
   "source": []
  }
 ],
 "metadata": {
  "kernelspec": {
   "display_name": "Python 3.10.6 64-bit",
   "language": "python",
   "name": "python3"
  },
  "language_info": {
   "codemirror_mode": {
    "name": "ipython",
    "version": 3
   },
   "file_extension": ".py",
   "mimetype": "text/x-python",
   "name": "python",
   "nbconvert_exporter": "python",
   "pygments_lexer": "ipython3",
   "version": "3.10.6"
  },
  "orig_nbformat": 4,
  "vscode": {
   "interpreter": {
    "hash": "916dbcbb3f70747c44a77c7bcd40155683ae19c65e1c03b4aa3499c5328201f1"
   }
  }
 },
 "nbformat": 4,
 "nbformat_minor": 2
}
