{
 "cells": [
  {
   "cell_type": "code",
   "execution_count": 2,
   "metadata": {},
   "outputs": [
    {
     "name": "stderr",
     "output_type": "stream",
     "text": [
      "2023-01-16 08:00:52.207250: I tensorflow/core/platform/cpu_feature_guard.cc:193] This TensorFlow binary is optimized with oneAPI Deep Neural Network Library (oneDNN) to use the following CPU instructions in performance-critical operations:  AVX2 FMA\n",
      "To enable them in other operations, rebuild TensorFlow with the appropriate compiler flags.\n",
      "2023-01-16 08:00:52.789135: W tensorflow/compiler/xla/stream_executor/platform/default/dso_loader.cc:64] Could not load dynamic library 'libnvinfer.so.7'; dlerror: libnvinfer.so.7: cannot open shared object file: No such file or directory\n",
      "2023-01-16 08:00:52.789174: W tensorflow/compiler/xla/stream_executor/platform/default/dso_loader.cc:64] Could not load dynamic library 'libnvinfer_plugin.so.7'; dlerror: libnvinfer_plugin.so.7: cannot open shared object file: No such file or directory\n",
      "2023-01-16 08:00:52.789179: W tensorflow/compiler/tf2tensorrt/utils/py_utils.cc:38] TF-TRT Warning: Cannot dlopen some TensorRT libraries. If you would like to use Nvidia GPU with TensorRT, please make sure the missing libraries mentioned above are installed properly.\n"
     ]
    }
   ],
   "source": [
    "import os\n",
    "# disable \n",
    "\n",
    "# import load_model\n",
    "from tensorflow.keras.models import load_model\n",
    "\n",
    "import numpy as np\n",
    "import pandas as pd\n",
    "\n",
    "from matplotlib import pyplot as plt\n",
    "import matplotlib\n",
    "matplotlib.use(\"Qt5Agg\")\n",
    "\n",
    "from enum import Enum\n",
    "from tqdm import tqdm\n"
   ]
  },
  {
   "cell_type": "code",
   "execution_count": 21,
   "metadata": {},
   "outputs": [],
   "source": [
    "prefix = './Results/progress'\n",
    "log_path = '2023-01-16_09:11:38'\n",
    "\n",
    "model_iteration = '80'\n",
    "model_path = os.path.join(prefix, log_path, 'models', f'model_{model_iteration}.h5')\n",
    "history_path = os.path.join(prefix, log_path, 'reward_history.csv')\n",
    "image_path = os.path.join(prefix, log_path, 'images')"
   ]
  },
  {
   "attachments": {},
   "cell_type": "markdown",
   "metadata": {},
   "source": [
    "### Load functions"
   ]
  },
  {
   "cell_type": "code",
   "execution_count": 4,
   "metadata": {},
   "outputs": [],
   "source": [
    "original_items = ['event_time','original_open', 'original_close', 'original_high', 'original_low', 'original_volume']\n",
    "\n",
    "class ActionSpace(Enum):\n",
    "    BUY = 0\n",
    "    HOLD = 1\n",
    "    SELL = 2\n",
    "\n",
    "def plot_data(data, ax):\n",
    "    if ax is None:\n",
    "        ax = plt.gca()\n",
    "    ax.plot(data)\n",
    "    # add trend line\n",
    "    ax.plot(np.poly1d(np.polyfit(range(len(data)), data, 2))(range(len(data))))\n",
    "    ax.set_xlabel(\"Episode\")\n",
    "    ax.legend([\"Reward\"])\n",
    "    reward_save_path = os.path.join(image_path, f'average_reward_{model_iteration}.png')\n",
    "    plt.savefig(reward_save_path)\n",
    "\n",
    "def sequence_generator(data, batch_size, max_steps):\n",
    "    for i in range(batch_size + 1, max_steps):\n",
    "        yield data[i - batch_size:i]\n",
    "\n",
    "def get_train_env_data(data):\n",
    "    item = pd.DataFrame(data)\n",
    "    return item[original_items], item.drop(original_items, axis=1)\n",
    "\n",
    "def plot_buy_sell(data, ax):\n",
    "    if ax is None:\n",
    "        ax = plt.gca()\n",
    "\n",
    "    width = .4\n",
    "    width2 = .04\n",
    "\n",
    "    #define colors to use\n",
    "    col1 = 'green'\n",
    "    col2 = 'red'\n",
    "\n",
    "    for i in range(0, len(data)):\n",
    "        item = data[i]\n",
    "        item_candlestick = item[0]\n",
    "        action = item[1]\n",
    "        index = item[2]\n",
    "\n",
    "\n",
    "\n",
    "        if item_candlestick['original_close'] >= item_candlestick['original_open']:\n",
    "            height = item_candlestick['original_close'] - item_candlestick['original_open']\n",
    "            height_max = item_candlestick['original_high'] - item_candlestick['original_low']\n",
    "            ax.bar(index, height, width, item_candlestick['original_open'], color=col1)\n",
    "            ax.bar(index, height_max, width2, item_candlestick['original_open'], color=col1)\n",
    "        else:\n",
    "            height = item_candlestick['original_open'] - item_candlestick['original_close']\n",
    "            height_max = item_candlestick['original_high'] - item_candlestick['original_low']\n",
    "            ax.bar(index, height, width,  item_candlestick['original_close'], color=col2)\n",
    "            ax.bar(index, height_max, width2,  item_candlestick['original_close'], color=col2)\n",
    "\n",
    "        if action == ActionSpace.BUY:\n",
    "            ax.scatter(index, item_candlestick['original_close'], marker='o', color='yellow', s=5)\n",
    "        elif action == ActionSpace.SELL:\n",
    "            ax.scatter(index, item_candlestick['original_close'], marker='o', color='blue', s=4)\n",
    "\n",
    "    \n",
    "    ax.set_ylabel(\"Price\")\n",
    "\n",
    "    ax.set_xlabel(\"Minutes\")\n",
    "    ax.legend()\n",
    "    prediction_path = os.path.join(image_path, f'prediction_{model_iteration}.png')\n",
    "    plt.savefig(prediction_path)\n"
   ]
  },
  {
   "cell_type": "code",
   "execution_count": 22,
   "metadata": {},
   "outputs": [
    {
     "name": "stderr",
     "output_type": "stream",
     "text": [
      "100%|█████████▉| 399/400 [00:18<00:00, 21.77it/s]\n"
     ]
    }
   ],
   "source": [
    "# load AI model from Models\n",
    "model = load_model(model_path)\n",
    "training_history = pd.read_csv(history_path)\n",
    "\n",
    "\n",
    "# read data from file into pandas dataframe\n",
    "df = pd.read_csv(\"./Data/dataset/VETUSDT.csv\")\n",
    "\n",
    "\n",
    "# loop through all sequences and predict buy hold or sell and put the results on a graph\n",
    "buy_sells = []\n",
    "\n",
    "LOOKBACK_WINDOW = 100\n",
    "ITEMS = 500\n",
    "\n",
    "\n",
    "seq_gen = sequence_generator(df, LOOKBACK_WINDOW, ITEMS)\n",
    "\n",
    "for i in tqdm(range(0, ITEMS - LOOKBACK_WINDOW)):\n",
    "    try:\n",
    "        item = next(seq_gen)\n",
    "    except:\n",
    "        break\n",
    "    train, env = get_train_env_data(item)\n",
    "    env = env.to_numpy()\n",
    "    prediction = model.predict(env.reshape(1, LOOKBACK_WINDOW, 17), verbose=0)\n",
    "    action = ActionSpace(np.argmax(prediction))\n",
    "    buy_sells.append((train.iloc[-1], action, i))"
   ]
  },
  {
   "cell_type": "code",
   "execution_count": 23,
   "metadata": {},
   "outputs": [
    {
     "name": "stderr",
     "output_type": "stream",
     "text": [
      "No artists with labels found to put in legend.  Note that artists whose label start with an underscore are ignored when legend() is called with no argument.\n"
     ]
    }
   ],
   "source": [
    "\n",
    "fig, ax = plt.subplots(nrows=2, ncols=1)\n",
    "fig.tight_layout(pad=3)\n",
    "\n",
    "plot_data(training_history['reward'], ax[0])\n",
    "plot_buy_sell(buy_sells, ax[1])\n",
    "\n",
    "plt.show()"
   ]
  }
 ],
 "metadata": {
  "kernelspec": {
   "display_name": "base",
   "language": "python",
   "name": "python3"
  },
  "language_info": {
   "codemirror_mode": {
    "name": "ipython",
    "version": 3
   },
   "file_extension": ".py",
   "mimetype": "text/x-python",
   "name": "python",
   "nbconvert_exporter": "python",
   "pygments_lexer": "ipython3",
   "version": "3.9.13"
  },
  "orig_nbformat": 4,
  "vscode": {
   "interpreter": {
    "hash": "62fd54318f6a2fa08be4eeaf7e2f88489af61833aae47133177ad67efbdf279b"
   }
  }
 },
 "nbformat": 4,
 "nbformat_minor": 2
}
