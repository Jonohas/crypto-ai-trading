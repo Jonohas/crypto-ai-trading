{
 "cells": [
  {
   "cell_type": "code",
   "execution_count": 1,
   "metadata": {},
   "outputs": [
    {
     "name": "stderr",
     "output_type": "stream",
     "text": [
      "2023-01-12 13:08:02.144974: I tensorflow/core/platform/cpu_feature_guard.cc:193] This TensorFlow binary is optimized with oneAPI Deep Neural Network Library (oneDNN) to use the following CPU instructions in performance-critical operations:  AVX2 FMA\n",
      "To enable them in other operations, rebuild TensorFlow with the appropriate compiler flags.\n",
      "2023-01-12 13:08:02.247040: W tensorflow/compiler/xla/stream_executor/platform/default/dso_loader.cc:64] Could not load dynamic library 'libcudart.so.11.0'; dlerror: libcudart.so.11.0: cannot open shared object file: No such file or directory\n",
      "2023-01-12 13:08:02.247057: I tensorflow/compiler/xla/stream_executor/cuda/cudart_stub.cc:29] Ignore above cudart dlerror if you do not have a GPU set up on your machine.\n",
      "2023-01-12 13:08:02.734254: W tensorflow/compiler/xla/stream_executor/platform/default/dso_loader.cc:64] Could not load dynamic library 'libnvinfer.so.7'; dlerror: libnvinfer.so.7: cannot open shared object file: No such file or directory\n",
      "2023-01-12 13:08:02.734299: W tensorflow/compiler/xla/stream_executor/platform/default/dso_loader.cc:64] Could not load dynamic library 'libnvinfer_plugin.so.7'; dlerror: libnvinfer_plugin.so.7: cannot open shared object file: No such file or directory\n",
      "2023-01-12 13:08:02.734303: W tensorflow/compiler/tf2tensorrt/utils/py_utils.cc:38] TF-TRT Warning: Cannot dlopen some TensorRT libraries. If you would like to use Nvidia GPU with TensorRT, please make sure the missing libraries mentioned above are installed properly.\n"
     ]
    }
   ],
   "source": [
    "# import load_model\n",
    "from tensorflow.keras.models import load_model\n",
    "\n",
    "import numpy as np\n",
    "import pandas as pd"
   ]
  },
  {
   "cell_type": "code",
   "execution_count": 4,
   "metadata": {},
   "outputs": [
    {
     "name": "stderr",
     "output_type": "stream",
     "text": [
      "2023-01-12 13:08:26.557194: I tensorflow/compiler/xla/stream_executor/cuda/cuda_gpu_executor.cc:981] successful NUMA node read from SysFS had negative value (-1), but there must be at least one NUMA node, so returning NUMA node zero\n",
      "2023-01-12 13:08:26.557546: W tensorflow/compiler/xla/stream_executor/platform/default/dso_loader.cc:64] Could not load dynamic library 'libcudart.so.11.0'; dlerror: libcudart.so.11.0: cannot open shared object file: No such file or directory\n",
      "2023-01-12 13:08:26.557626: W tensorflow/compiler/xla/stream_executor/platform/default/dso_loader.cc:64] Could not load dynamic library 'libcublas.so.11'; dlerror: libcublas.so.11: cannot open shared object file: No such file or directory\n",
      "2023-01-12 13:08:26.557686: W tensorflow/compiler/xla/stream_executor/platform/default/dso_loader.cc:64] Could not load dynamic library 'libcublasLt.so.11'; dlerror: libcublasLt.so.11: cannot open shared object file: No such file or directory\n",
      "2023-01-12 13:08:26.557743: W tensorflow/compiler/xla/stream_executor/platform/default/dso_loader.cc:64] Could not load dynamic library 'libcufft.so.10'; dlerror: libcufft.so.10: cannot open shared object file: No such file or directory\n",
      "2023-01-12 13:08:26.617285: W tensorflow/compiler/xla/stream_executor/platform/default/dso_loader.cc:64] Could not load dynamic library 'libcusparse.so.11'; dlerror: libcusparse.so.11: cannot open shared object file: No such file or directory\n",
      "2023-01-12 13:08:26.617334: W tensorflow/compiler/xla/stream_executor/platform/default/dso_loader.cc:64] Could not load dynamic library 'libcudnn.so.8'; dlerror: libcudnn.so.8: cannot open shared object file: No such file or directory\n",
      "2023-01-12 13:08:26.617345: W tensorflow/core/common_runtime/gpu/gpu_device.cc:1934] Cannot dlopen some GPU libraries. Please make sure the missing libraries mentioned above are installed properly if you would like to use GPU. Follow the guide at https://www.tensorflow.org/install/gpu for how to download and setup the required libraries for your platform.\n",
      "Skipping registering GPU devices...\n",
      "2023-01-12 13:08:26.617962: I tensorflow/core/platform/cpu_feature_guard.cc:193] This TensorFlow binary is optimized with oneAPI Deep Neural Network Library (oneDNN) to use the following CPU instructions in performance-critical operations:  AVX2 FMA\n",
      "To enable them in other operations, rebuild TensorFlow with the appropriate compiler flags.\n"
     ]
    }
   ],
   "source": [
    "# load AI model from Models\n",
    "model = load_model(\"./Models/model_20230112-123931_final.h5\")"
   ]
  },
  {
   "cell_type": "code",
   "execution_count": 6,
   "metadata": {},
   "outputs": [
    {
     "name": "stderr",
     "output_type": "stream",
     "text": [
      "/tmp/ipykernel_2761910/4117980202.py:13: VisibleDeprecationWarning: Creating an ndarray from ragged nested sequences (which is a list-or-tuple of lists-or-tuples-or ndarrays with different lengths or shapes) is deprecated. If you meant to do this, you must specify 'dtype=object' when creating the ndarray.\n",
      "  sequences = np.array(sequences)\n"
     ]
    }
   ],
   "source": [
    "# read data from file into pandas dataframe\n",
    "df = pd.read_csv(\"./Data/dataset/VETUSDT.csv\")\n",
    "\n",
    "\n",
    "LOOKBACK_WINDOW = 15\n",
    "\n",
    "# create sequences from dataframe\n",
    "sequences = []\n",
    "for i in range(LOOKBACK_WINDOW - 1, len(df)):\n",
    "    sequences.append(df[i:i+LOOKBACK_WINDOW])\n",
    "\n",
    "# create numpy array from sequences\n",
    "sequences = np.array(sequences)\n",
    "\n",
    "\n"
   ]
  },
  {
   "cell_type": "code",
   "execution_count": 8,
   "metadata": {},
   "outputs": [],
   "source": [
    "first_item = sequences[0]\n",
    "first_item = pd.DataFrame(first_item)\n",
    "\n",
    "original_items = ['event_time','original_open', 'original_close', 'original_high', 'original_low', 'original_volume']\n",
    "\n",
    "\n",
    "# create nice comment that explains what this function does\n",
    "\n",
    "# Receives an index and returns the data for the training and for the environment\n",
    "def get_train_env_data(data, index):\n",
    "    item = pd.DataFrame(data[i])\n",
    "    return item[original_items], item.drop(original_items, axis=1)"
   ]
  },
  {
   "cell_type": "code",
   "execution_count": 7,
   "metadata": {},
   "outputs": [
    {
     "data": {
      "image/png": "[encoded data removed]",
      "text/plain": [
       "<Figure size 640x480 with 1 Axes>"
      ]
     },
     "metadata": {},
     "output_type": "display_data"
    }
   ],
   "source": [
    "from matplotlib import pyplot as plt\n",
    "# plot data from csv file\n",
    "def plot_data(data):\n",
    "    plt.plot(data)\n",
    "    plt.xlabel(\"Episode\")\n",
    "    plt.legend([\"Average Reward\"])\n",
    "    plt.show()\n",
    "\n",
    "training_history = pd.read_csv(\"./Results/reward_history_20230112-123931.csv\")\n",
    "\n",
    "plot_data(training_history['average_reward'])"
   ]
  },
  {
   "cell_type": "code",
   "execution_count": 66,
   "metadata": {},
   "outputs": [
    {
     "name": "stderr",
     "output_type": "stream",
     "text": [
      "100%|██████████| 400/400 [00:17<00:00, 22.62it/s]\n"
     ]
    }
   ],
   "source": [
    "from enum import Enum\n",
    "from tqdm import tqdm\n",
    "class ActionSpace(Enum):\n",
    "    BUY = 0\n",
    "    HOLD = 1\n",
    "    SELL = 2\n",
    "\n",
    "\n",
    "# loop through all sequences and predict buy hold or sell and put the results on a graph\n",
    "buy_sells = []\n",
    "for i in tqdm(range(0, len(sequences[:]))):\n",
    "    train, env = get_train_env_data(sequences, i)\n",
    "    env = env.to_numpy()\n",
    "    prediction = model.predict(env.reshape(1, 15, 17), verbose=0)\n",
    "    action = ActionSpace(np.argmax(prediction[0]))\n",
    "    buy_sells.append((train.iloc[-1], action, i))\n",
    "\n",
    "# create a graph with the buy and sell points candlesticks\n",
    "\n",
    "\n"
   ]
  },
  {
   "cell_type": "code",
   "execution_count": 79,
   "metadata": {},
   "outputs": [],
   "source": [
    "def plot_buy_sell(data):\n",
    "    plt.figure()\n",
    "\n",
    "    width = .4\n",
    "    width2 = .04\n",
    "\n",
    "    #define colors to use\n",
    "    col1 = 'green'\n",
    "    col2 = 'red'\n",
    "\n",
    "    for i in range(0, len(data)):\n",
    "        item = data[i]\n",
    "        item_candlestick = item[0]\n",
    "        action = item[1]\n",
    "        index = item[2]\n",
    "\n",
    "        if action == ActionSpace.BUY:\n",
    "            plt.plot(index, item_candlestick['original_close'], 'g+')\n",
    "        elif action == ActionSpace.SELL:\n",
    "            plt.plot(index, item_candlestick['original_close'], 'r-')\n",
    "\n",
    "        if item_candlestick['original_close'] >= item_candlestick['original_open']:\n",
    "            height = item_candlestick['original_close'] - item_candlestick['original_open']\n",
    "            height_max = item_candlestick['original_high'] - item_candlestick['original_low']\n",
    "            plt.bar(index, height, width, item_candlestick['original_open'], color=col1)\n",
    "            plt.bar(index, height_max, width2, item_candlestick['original_open'], color=col1)\n",
    "        else:\n",
    "            height = item_candlestick['original_open'] - item_candlestick['original_close']\n",
    "            height_max = item_candlestick['original_high'] - item_candlestick['original_low']\n",
    "            plt.bar(index, height, width,  item_candlestick['original_close'], color=col2)\n",
    "            plt.bar(index, height_max, width2,  item_candlestick['original_close'], color=col2)\n",
    "\n",
    "    plt.ylabel(\"Price\")\n",
    "\n",
    "    plt.xlabel(\"Minutes\")\n",
    "\n",
    "    plt.show()\n",
    "\n",
    "\n",
    "%matplotlib tk\n",
    "plot_buy_sell(buy_sells)\n",
    "\n",
    "\n"
   ]
  },
  {
   "cell_type": "code",
   "execution_count": 53,
   "metadata": {},
   "outputs": [
    {
     "data": {
      "text/html": [
       "\n",
       "      <iframe id=\"tensorboard-frame-6fece9395cff807c\" width=\"100%\" height=\"800\" frameborder=\"0\">\n",
       "      </iframe>\n",
       "      <script>\n",
       "        (function() {\n",
       "          const frame = document.getElementById(\"tensorboard-frame-6fece9395cff807c\");\n",
       "          const url = new URL(\"/\", window.location);\n",
       "          const port = 6006;\n",
       "          if (port) {\n",
       "            url.port = port;\n",
       "          }\n",
       "          frame.src = url;\n",
       "        })();\n",
       "      </script>\n",
       "    "
      ],
      "text/plain": [
       "<IPython.core.display.HTML object>"
      ]
     },
     "metadata": {},
     "output_type": "display_data"
    }
   ],
   "source": [
    "%load_ext tensorboard\n",
    "%tensorboard --logdir Training/logs/fit"
   ]
  }
 ],
 "metadata": {
  "kernelspec": {
   "display_name": "base",
   "language": "python",
   "name": "python3"
  },
  "language_info": {
   "codemirror_mode": {
    "name": "ipython",
    "version": 3
   },
   "file_extension": ".py",
   "mimetype": "text/x-python",
   "name": "python",
   "nbconvert_exporter": "python",
   "pygments_lexer": "ipython3",
   "version": "3.9.13"
  },
  "orig_nbformat": 4,
  "vscode": {
   "interpreter": {
    "hash": "62fd54318f6a2fa08be4eeaf7e2f88489af61833aae47133177ad67efbdf279b"
   }
  }
 },
 "nbformat": 4,
 "nbformat_minor": 2
}
