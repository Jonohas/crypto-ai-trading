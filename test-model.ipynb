{
 "cells": [
  {
   "cell_type": "code",
   "execution_count": 6,
   "metadata": {},
   "outputs": [],
   "source": [
    "import os\n",
    "# disable \n",
    "\n",
    "# import load_model\n",
    "from tensorflow.keras.models import load_model\n",
    "\n",
    "import numpy as np\n",
    "import pandas as pd\n",
    "\n",
    "from matplotlib import pyplot as plt\n",
    "import matplotlib\n",
    "matplotlib.use(\"Qt5Agg\")\n",
    "\n",
    "from enum import Enum\n",
    "from tqdm import tqdm\n"
   ]
  },
  {
   "cell_type": "code",
   "execution_count": 7,
   "metadata": {},
   "outputs": [],
   "source": [
    "log_path = '2023-01-24_134213'\n",
    "model_iteration = '160'"
   ]
  },
  {
   "cell_type": "markdown",
   "metadata": {},
   "source": []
  },
  {
   "cell_type": "code",
   "execution_count": 8,
   "metadata": {},
   "outputs": [],
   "source": [
    "prefix = './Results'\n",
    "model_path = os.path.join(prefix, log_path, 'models', f'model_{model_iteration}.h5')\n",
    "history_path = os.path.join(prefix, log_path, 'reward_history.csv')\n",
    "image_path = os.path.join(prefix, log_path, 'images')"
   ]
  },
  {
   "attachments": {},
   "cell_type": "markdown",
   "metadata": {},
   "source": [
    "### Load functions"
   ]
  },
  {
   "cell_type": "code",
   "execution_count": 9,
   "metadata": {},
   "outputs": [],
   "source": [
    "original_items = ['event_time','original_open', 'original_close', 'original_high', 'original_low', 'original_volume']\n",
    "\n",
    "class ActionSpace(Enum):\n",
    "    BUY = 0\n",
    "    HOLD = 1\n",
    "    SELL = 2\n",
    "\n",
    "def plot_data(data, ax):\n",
    "    if ax is None:\n",
    "        ax = plt.gca()\n",
    "    ax.plot(data)\n",
    "    # add trend line\n",
    "    ax.plot(np.poly1d(np.polyfit(range(len(data)), data, 2))(range(len(data))))\n",
    "    ax.set_xlabel(\"Episode\")\n",
    "    ax.legend([\"Reward\"])\n",
    "    ax.tick_params(labelbottom=True, labeltop=False, labelleft=True, labelright=False,\n",
    "                     bottom=True, top=False, left=True, right=True)\n",
    "    ax.grid(axis='y')\n",
    "    reward_save_path = os.path.join(image_path, f'average_reward_{model_iteration}.png')\n",
    "\n",
    "def sequence_generator(data, batch_size, max_steps, start_index=0):\n",
    "\n",
    "        \n",
    "    for i in range(start_index + batch_size + 1, max_steps + start_index):\n",
    "        yield data[i - batch_size:i]\n",
    "\n",
    "def get_train_env_data(data):\n",
    "    item = pd.DataFrame(data)\n",
    "    return item[original_items], item.drop(original_items, axis=1)\n",
    "\n",
    "def plot_buy_sell(data, ax):\n",
    "    if ax is None:\n",
    "        ax = plt.gca()\n",
    "\n",
    "    \n",
    "\n",
    "    width = .4\n",
    "    width2 = .04\n",
    "\n",
    "    #define colors to use2023-01-18_20:43:23\n",
    "    col1 = 'green'\n",
    "    col2 = 'red'\n",
    "\n",
    "    buys = 0\n",
    "    sells = 0\n",
    "    holds = 0\n",
    "\n",
    "    for i in range(0, len(data)):\n",
    "        item = data[i]\n",
    "        item_candlestick = item[0]\n",
    "        action = item[1]\n",
    "        index = item[2]\n",
    "\n",
    "\n",
    "\n",
    "        if item_candlestick['original_close'] >= item_candlestick['original_open']:\n",
    "            height = item_candlestick['original_close'] - item_candlestick['original_open']\n",
    "            height_max = item_candlestick['original_high'] - item_candlestick['original_low']\n",
    "            ax.bar(index, height, width, item_candlestick['original_open'], color=col1)\n",
    "            ax.bar(index, height_max, width2, item_candlestick['original_open'], color=col1)\n",
    "        else:\n",
    "            height = item_candlestick['original_open'] - item_candlestick['original_close']\n",
    "            height_max = item_candlestick['original_high'] - item_candlestick['original_low']\n",
    "            ax.bar(index, height, width,  item_candlestick['original_close'], color=col2)\n",
    "            ax.bar(index, height_max, width2,  item_candlestick['original_close'], color=col2)\n",
    "\n",
    "        if action == ActionSpace.BUY:\n",
    "            buys += 1\n",
    "            ax.scatter(index, item_candlestick['original_close'], marker='o', color='cyan', s=5)\n",
    "\n",
    "        elif action == ActionSpace.SELL:\n",
    "            sells += 1\n",
    "            ax.scatter(index, item_candlestick['original_close'], marker='o', color='magenta', s=5)\n",
    "\n",
    "        elif action == ActionSpace.HOLD:\n",
    "            holds += 1\n",
    "            ax.scatter(index, item_candlestick['original_close'], marker='o', color='black', s=5)\n",
    "\n",
    "    # set y ticks to both sides\n",
    "    \n",
    "\n",
    "\n",
    "    ax.set_ylabel(\"Price\")\n",
    "    ax.set_xlabel(\"Minutes\")\n",
    "    ax.legend()\n",
    "\n",
    "    ax.tick_params(labelbottom=True, labeltop=False, labelleft=True, labelright=False,\n",
    "                     bottom=True, top=False, left=True, right=True)\n",
    "    ax.grid(axis='y')\n",
    "    return buys, sells, holds\n",
    "\n",
    "def create_count_plot(buys, sells, holds, ax):\n",
    "    # create count plot with buys, sells, holds\n",
    "\n",
    "    ax.bar(0, buys, width=.4, color='cyan', label=f'Buy: {buys}')\n",
    "    ax.bar(1, sells, width=.4, color='magenta', label=f'Sell: {sells}')\n",
    "    ax.bar(2, holds, width=.4, color='black', label=f'Hold: {holds}')\n",
    "\n",
    "    ax.set_xticks([0, 1, 2])\n",
    "    ax.set_xticklabels(['Buy', 'Sell', 'Hold'])\n",
    "\n",
    "    # show values on bars\n",
    "    \n",
    "    ax.set_ylabel(\"Count\")\n",
    "    ax.set_xlabel(\"Action\")\n",
    "    ax.legend()\n",
    "\n",
    "    ax.grid(axis='y')"
   ]
  },
  {
   "attachments": {},
   "cell_type": "markdown",
   "metadata": {},
   "source": [
    "### Predict sequences"
   ]
  },
  {
   "cell_type": "code",
   "execution_count": 10,
   "metadata": {},
   "outputs": [
    {
     "name": "stderr",
     "output_type": "stream",
     "text": [
      "100%|█████████▉| 399/400 [00:24<00:00, 16.60it/s]\n"
     ]
    }
   ],
   "source": [
    "# load AI model from Models\n",
    "model = load_model(model_path)\n",
    "training_history = pd.read_csv(history_path)\n",
    "\n",
    "\n",
    "# read data from file into pandas dataframe\n",
    "df = pd.read_csv(\"./Data/dataset/VETUSDT.csv\")\n",
    "\n",
    "\n",
    "\n",
    "# loop through all sequences and predict buy hold or sell and put the results on a graph\n",
    "buy_sells = []\n",
    "\n",
    "LOOKBACK_WINDOW = 100\n",
    "ITEMS = 500\n",
    "\n",
    "\n",
    "seq_gen = sequence_generator(df, LOOKBACK_WINDOW, ITEMS, 20000)\n",
    "\n",
    "for i in tqdm(range(0, ITEMS - LOOKBACK_WINDOW)):\n",
    "    try:\n",
    "        item = next(seq_gen)\n",
    "    except:\n",
    "        break\n",
    "    train, env = get_train_env_data(item)\n",
    "    env = env.to_numpy()\n",
    "    prediction = model.predict(env.reshape(1, LOOKBACK_WINDOW, 17), verbose=0)\n",
    "    action = ActionSpace(np.argmax(prediction))\n",
    "    buy_sells.append((train.iloc[-1], action, i))"
   ]
  },
  {
   "attachments": {},
   "cell_type": "markdown",
   "metadata": {},
   "source": [
    "### Show graphs"
   ]
  },
  {
   "cell_type": "code",
   "execution_count": 11,
   "metadata": {},
   "outputs": [
    {
     "name": "stderr",
     "output_type": "stream",
     "text": [
      "No artists with labels found to put in legend.  Note that artists whose label start with an underscore are ignored when legend() is called with no argument.\n"
     ]
    }
   ],
   "source": [
    "fig = plt.figure(figsize=(20, 10))\n",
    "grid = plt.GridSpec(2, 2)\n",
    "fig.tight_layout(pad=3)\n",
    "\n",
    "ax_1 = fig.add_subplot(grid[0, 0])\n",
    "ax_2 = fig.add_subplot(grid[1, :2])\n",
    "ax_3 = fig.add_subplot(grid[0, 1])\n",
    "plot_data(training_history['reward'], ax_1)\n",
    "buys, sells, holds = plot_buy_sell(buy_sells, ax_2)\n",
    "create_count_plot(buys, sells, holds, ax_3)\n",
    "\n",
    "\n",
    "prediction_path = os.path.join(image_path, f'prediction_{model_iteration}.png')\n",
    "plt.savefig(prediction_path)\n",
    "plt.show(block=False)"
   ]
  }
 ],
 "metadata": {
  "kernelspec": {
   "display_name": "Python 3",
   "language": "python",
   "name": "python3"
  },
  "language_info": {
   "codemirror_mode": {
    "name": "ipython",
    "version": 3
   },
   "file_extension": ".py",
   "mimetype": "text/x-python",
   "name": "python",
   "nbconvert_exporter": "python",
   "pygments_lexer": "ipython3",
   "version": "3.10.9 (tags/v3.10.9:1dd9be6, Dec  6 2022, 20:01:21) [MSC v.1934 64 bit (AMD64)]"
  },
  "orig_nbformat": 4,
  "vscode": {
   "interpreter": {
    "hash": "683e9bbf599fde3b00e37a0db68ad40a268db525b46af3924c3427b16ddb8792"
   }
  }
 },
 "nbformat": 4,
 "nbformat_minor": 2
}
