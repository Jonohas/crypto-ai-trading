{
 "cells": [
  {
   "cell_type": "code",
   "execution_count": 156,
   "metadata": {},
   "outputs": [],
   "source": [
    "import os\n",
    "# disable \n",
    "\n",
    "# import load_model\n",
    "from tensorflow.keras.models import load_model\n",
    "\n",
    "import numpy as np\n",
    "import pandas as pd\n",
    "\n",
    "from matplotlib import pyplot as plt\n",
    "import matplotlib\n",
    "matplotlib.use(\"Qt5Agg\")\n",
    "\n",
    "from enum import Enum\n",
    "from tqdm import tqdm\n"
   ]
  },
  {
   "cell_type": "code",
   "execution_count": 190,
   "metadata": {},
   "outputs": [],
   "source": [
    "prefix = './Results/progress'\n",
    "log_path = '2023-01-15_17:46:04'\n",
    "\n",
    "model_iteration = 'final'\n",
    "model_path = os.path.join(prefix, log_path, 'models', f'model_{model_iteration}.h5')\n",
    "history_path = os.path.join(prefix, log_path, 'reward_history.csv')\n",
    "image_path = os.path.join(prefix, log_path, 'images')"
   ]
  },
  {
   "attachments": {},
   "cell_type": "markdown",
   "metadata": {},
   "source": [
    "### Load functions"
   ]
  },
  {
   "cell_type": "code",
   "execution_count": 171,
   "metadata": {},
   "outputs": [],
   "source": [
    "original_items = ['event_time','original_open', 'original_close', 'original_high', 'original_low', 'original_volume']\n",
    "\n",
    "class ActionSpace(Enum):\n",
    "    BUY = 0\n",
    "    HOLD = 1\n",
    "    SELL = 2\n",
    "\n",
    "def plot_data(data, ax):\n",
    "    if ax is None:\n",
    "        ax = plt.gca()\n",
    "    ax.plot(data)\n",
    "    # add trend line\n",
    "    ax.plot(np.poly1d(np.polyfit(range(len(data)), data, 2))(range(len(data))))\n",
    "    ax.set_xlabel(\"Episode\")\n",
    "    ax.legend([\"Reward\"])\n",
    "    reward_save_path = os.path.join(image_path, f'average_reward_{model_iteration}.png')\n",
    "    plt.savefig(reward_save_path)\n",
    "\n",
    "def sequence_generator(data, batch_size, max_steps):\n",
    "    for i in range(batch_size + 1, max_steps):\n",
    "        yield data[i - batch_size:i]\n",
    "\n",
    "def get_train_env_data(data):\n",
    "    item = pd.DataFrame(data)\n",
    "    return item[original_items], item.drop(original_items, axis=1)\n",
    "\n",
    "def plot_buy_sell(data, ax):\n",
    "    if ax is None:\n",
    "        ax = plt.gca()\n",
    "\n",
    "    width = .4\n",
    "    width2 = .04\n",
    "\n",
    "    #define colors to use\n",
    "    col1 = 'green'\n",
    "    col2 = 'red'\n",
    "\n",
    "    for i in range(0, len(data)):\n",
    "        item = data[i]\n",
    "        item_candlestick = item[0]\n",
    "        action = item[1]\n",
    "        index = item[2]\n",
    "\n",
    "\n",
    "\n",
    "        if item_candlestick['original_close'] >= item_candlestick['original_open']:\n",
    "            height = item_candlestick['original_close'] - item_candlestick['original_open']\n",
    "            height_max = item_candlestick['original_high'] - item_candlestick['original_low']\n",
    "            ax.bar(index, height, width, item_candlestick['original_open'], color=col1)\n",
    "            ax.bar(index, height_max, width2, item_candlestick['original_open'], color=col1)\n",
    "        else:\n",
    "            height = item_candlestick['original_open'] - item_candlestick['original_close']\n",
    "            height_max = item_candlestick['original_high'] - item_candlestick['original_low']\n",
    "            ax.bar(index, height, width,  item_candlestick['original_close'], color=col2)\n",
    "            ax.bar(index, height_max, width2,  item_candlestick['original_close'], color=col2)\n",
    "\n",
    "        if action == ActionSpace.BUY:\n",
    "            ax.scatter(index, item_candlestick['original_close'], marker='o', color='yellow', s=5)\n",
    "        elif action == ActionSpace.SELL:\n",
    "            ax.scatter(index, item_candlestick['original_close'], marker='o', color='blue', s=4)\n",
    "\n",
    "    \n",
    "    ax.set_ylabel(\"Price\")\n",
    "\n",
    "    ax.set_xlabel(\"Minutes\")\n",
    "    ax.legend()\n",
    "    prediction_path = os.path.join(image_path, f'prediction_{model_iteration}.png')\n",
    "    plt.savefig(prediction_path)\n"
   ]
  },
  {
   "cell_type": "code",
   "execution_count": 191,
   "metadata": {},
   "outputs": [
    {
     "name": "stderr",
     "output_type": "stream",
     "text": [
      "100%|█████████▉| 399/400 [00:17<00:00, 22.35it/s]\n"
     ]
    }
   ],
   "source": [
    "# load AI model from Models\n",
    "model = load_model(model_path)\n",
    "training_history = pd.read_csv(history_path)\n",
    "\n",
    "\n",
    "# read data from file into pandas dataframe\n",
    "df = pd.read_csv(\"./Data/dataset/VETUSDT.csv\")\n",
    "\n",
    "\n",
    "# loop through all sequences and predict buy hold or sell and put the results on a graph\n",
    "buy_sells = []\n",
    "\n",
    "LOOKBACK_WINDOW = 100\n",
    "ITEMS = 500\n",
    "\n",
    "\n",
    "seq_gen = sequence_generator(df, LOOKBACK_WINDOW, ITEMS)\n",
    "\n",
    "for i in tqdm(range(0, ITEMS - LOOKBACK_WINDOW)):\n",
    "    try:\n",
    "        item = next(seq_gen)\n",
    "    except:\n",
    "        break\n",
    "    train, env = get_train_env_data(item)\n",
    "    env = env.to_numpy()\n",
    "    prediction = model.predict(env.reshape(1, LOOKBACK_WINDOW, 17), verbose=0)\n",
    "    action = ActionSpace(np.argmax(prediction))\n",
    "    buy_sells.append((train.iloc[-1], action, i))"
   ]
  },
  {
   "cell_type": "code",
   "execution_count": 192,
   "metadata": {},
   "outputs": [
    {
     "name": "stderr",
     "output_type": "stream",
     "text": [
      "No artists with labels found to put in legend.  Note that artists whose label start with an underscore are ignored when legend() is called with no argument.\n"
     ]
    },
    {
     "ename": "KeyboardInterrupt",
     "evalue": "",
     "output_type": "error",
     "traceback": [
      "\u001b[0;31m---------------------------------------------------------------------------\u001b[0m",
      "\u001b[0;31mKeyboardInterrupt\u001b[0m                         Traceback (most recent call last)",
      "\u001b[0;32m/tmp/ipykernel_447798/4069291853.py\u001b[0m in \u001b[0;36m<module>\u001b[0;34m\u001b[0m\n\u001b[1;32m      5\u001b[0m \u001b[0mplot_buy_sell\u001b[0m\u001b[0;34m(\u001b[0m\u001b[0mbuy_sells\u001b[0m\u001b[0;34m,\u001b[0m \u001b[0max\u001b[0m\u001b[0;34m[\u001b[0m\u001b[0;36m1\u001b[0m\u001b[0;34m]\u001b[0m\u001b[0;34m)\u001b[0m\u001b[0;34m\u001b[0m\u001b[0;34m\u001b[0m\u001b[0m\n\u001b[1;32m      6\u001b[0m \u001b[0;34m\u001b[0m\u001b[0m\n\u001b[0;32m----> 7\u001b[0;31m \u001b[0mplt\u001b[0m\u001b[0;34m.\u001b[0m\u001b[0mshow\u001b[0m\u001b[0;34m(\u001b[0m\u001b[0;34m)\u001b[0m\u001b[0;34m\u001b[0m\u001b[0;34m\u001b[0m\u001b[0m\n\u001b[0m",
      "\u001b[0;32m~/anaconda3/lib/python3.9/site-packages/matplotlib/pyplot.py\u001b[0m in \u001b[0;36mshow\u001b[0;34m(*args, **kwargs)\u001b[0m\n\u001b[1;32m    387\u001b[0m     \"\"\"\n\u001b[1;32m    388\u001b[0m     \u001b[0m_warn_if_gui_out_of_main_thread\u001b[0m\u001b[0;34m(\u001b[0m\u001b[0;34m)\u001b[0m\u001b[0;34m\u001b[0m\u001b[0;34m\u001b[0m\u001b[0m\n\u001b[0;32m--> 389\u001b[0;31m     \u001b[0;32mreturn\u001b[0m \u001b[0m_get_backend_mod\u001b[0m\u001b[0;34m(\u001b[0m\u001b[0;34m)\u001b[0m\u001b[0;34m.\u001b[0m\u001b[0mshow\u001b[0m\u001b[0;34m(\u001b[0m\u001b[0;34m*\u001b[0m\u001b[0margs\u001b[0m\u001b[0;34m,\u001b[0m \u001b[0;34m**\u001b[0m\u001b[0mkwargs\u001b[0m\u001b[0;34m)\u001b[0m\u001b[0;34m\u001b[0m\u001b[0;34m\u001b[0m\u001b[0m\n\u001b[0m\u001b[1;32m    390\u001b[0m \u001b[0;34m\u001b[0m\u001b[0m\n\u001b[1;32m    391\u001b[0m \u001b[0;34m\u001b[0m\u001b[0m\n",
      "\u001b[0;32m~/anaconda3/lib/python3.9/site-packages/matplotlib/backend_bases.py\u001b[0m in \u001b[0;36mshow\u001b[0;34m(cls, block)\u001b[0m\n\u001b[1;32m   3542\u001b[0m                 \u001b[0mblock\u001b[0m \u001b[0;34m=\u001b[0m \u001b[0;32mTrue\u001b[0m\u001b[0;34m\u001b[0m\u001b[0;34m\u001b[0m\u001b[0m\n\u001b[1;32m   3543\u001b[0m         \u001b[0;32mif\u001b[0m \u001b[0mblock\u001b[0m\u001b[0;34m:\u001b[0m\u001b[0;34m\u001b[0m\u001b[0;34m\u001b[0m\u001b[0m\n\u001b[0;32m-> 3544\u001b[0;31m             \u001b[0mcls\u001b[0m\u001b[0;34m.\u001b[0m\u001b[0mmainloop\u001b[0m\u001b[0;34m(\u001b[0m\u001b[0;34m)\u001b[0m\u001b[0;34m\u001b[0m\u001b[0;34m\u001b[0m\u001b[0m\n\u001b[0m\u001b[1;32m   3545\u001b[0m \u001b[0;34m\u001b[0m\u001b[0m\n\u001b[1;32m   3546\u001b[0m     \u001b[0;31m# This method is the one actually exporting the required methods.\u001b[0m\u001b[0;34m\u001b[0m\u001b[0;34m\u001b[0m\u001b[0m\n",
      "\u001b[0;32m~/anaconda3/lib/python3.9/site-packages/matplotlib/backends/backend_qt.py\u001b[0m in \u001b[0;36mmainloop\u001b[0;34m()\u001b[0m\n\u001b[1;32m   1053\u001b[0m     \u001b[0;32mdef\u001b[0m \u001b[0mmainloop\u001b[0m\u001b[0;34m(\u001b[0m\u001b[0;34m)\u001b[0m\u001b[0;34m:\u001b[0m\u001b[0;34m\u001b[0m\u001b[0;34m\u001b[0m\u001b[0m\n\u001b[1;32m   1054\u001b[0m         \u001b[0;32mwith\u001b[0m \u001b[0m_maybe_allow_interrupt\u001b[0m\u001b[0;34m(\u001b[0m\u001b[0mqApp\u001b[0m\u001b[0;34m)\u001b[0m\u001b[0;34m:\u001b[0m\u001b[0;34m\u001b[0m\u001b[0;34m\u001b[0m\u001b[0m\n\u001b[0;32m-> 1055\u001b[0;31m             \u001b[0mqt_compat\u001b[0m\u001b[0;34m.\u001b[0m\u001b[0m_exec\u001b[0m\u001b[0;34m(\u001b[0m\u001b[0mqApp\u001b[0m\u001b[0;34m)\u001b[0m\u001b[0;34m\u001b[0m\u001b[0;34m\u001b[0m\u001b[0m\n\u001b[0m",
      "\u001b[0;32m~/anaconda3/lib/python3.9/contextlib.py\u001b[0m in \u001b[0;36m__exit__\u001b[0;34m(self, typ, value, traceback)\u001b[0m\n\u001b[1;32m    124\u001b[0m         \u001b[0;32mif\u001b[0m \u001b[0mtyp\u001b[0m \u001b[0;32mis\u001b[0m \u001b[0;32mNone\u001b[0m\u001b[0;34m:\u001b[0m\u001b[0;34m\u001b[0m\u001b[0;34m\u001b[0m\u001b[0m\n\u001b[1;32m    125\u001b[0m             \u001b[0;32mtry\u001b[0m\u001b[0;34m:\u001b[0m\u001b[0;34m\u001b[0m\u001b[0;34m\u001b[0m\u001b[0m\n\u001b[0;32m--> 126\u001b[0;31m                 \u001b[0mnext\u001b[0m\u001b[0;34m(\u001b[0m\u001b[0mself\u001b[0m\u001b[0;34m.\u001b[0m\u001b[0mgen\u001b[0m\u001b[0;34m)\u001b[0m\u001b[0;34m\u001b[0m\u001b[0;34m\u001b[0m\u001b[0m\n\u001b[0m\u001b[1;32m    127\u001b[0m             \u001b[0;32mexcept\u001b[0m \u001b[0mStopIteration\u001b[0m\u001b[0;34m:\u001b[0m\u001b[0;34m\u001b[0m\u001b[0;34m\u001b[0m\u001b[0m\n\u001b[1;32m    128\u001b[0m                 \u001b[0;32mreturn\u001b[0m \u001b[0;32mFalse\u001b[0m\u001b[0;34m\u001b[0m\u001b[0;34m\u001b[0m\u001b[0m\n",
      "\u001b[0;32m~/anaconda3/lib/python3.9/site-packages/matplotlib/backends/qt_compat.py\u001b[0m in \u001b[0;36m_maybe_allow_interrupt\u001b[0;34m(qapp)\u001b[0m\n\u001b[1;32m    274\u001b[0m             \u001b[0msignal\u001b[0m\u001b[0;34m.\u001b[0m\u001b[0msignal\u001b[0m\u001b[0;34m(\u001b[0m\u001b[0msignal\u001b[0m\u001b[0;34m.\u001b[0m\u001b[0mSIGINT\u001b[0m\u001b[0;34m,\u001b[0m \u001b[0mold_sigint_handler\u001b[0m\u001b[0;34m)\u001b[0m\u001b[0;34m\u001b[0m\u001b[0;34m\u001b[0m\u001b[0m\n\u001b[1;32m    275\u001b[0m             \u001b[0;32mif\u001b[0m \u001b[0mhandler_args\u001b[0m \u001b[0;32mis\u001b[0m \u001b[0;32mnot\u001b[0m \u001b[0;32mNone\u001b[0m\u001b[0;34m:\u001b[0m\u001b[0;34m\u001b[0m\u001b[0;34m\u001b[0m\u001b[0m\n\u001b[0;32m--> 276\u001b[0;31m                 \u001b[0mold_sigint_handler\u001b[0m\u001b[0;34m(\u001b[0m\u001b[0;34m*\u001b[0m\u001b[0mhandler_args\u001b[0m\u001b[0;34m)\u001b[0m\u001b[0;34m\u001b[0m\u001b[0;34m\u001b[0m\u001b[0m\n\u001b[0m\u001b[1;32m    277\u001b[0m \u001b[0;34m\u001b[0m\u001b[0m\n\u001b[1;32m    278\u001b[0m \u001b[0;34m\u001b[0m\u001b[0m\n",
      "\u001b[0;31mKeyboardInterrupt\u001b[0m: "
     ]
    }
   ],
   "source": [
    "\n",
    "fig, ax = plt.subplots(nrows=2, ncols=1)\n",
    "fig.tight_layout(pad=3)\n",
    "\n",
    "plot_data(training_history['reward'], ax[0])\n",
    "plot_buy_sell(buy_sells, ax[1])\n",
    "\n",
    "plt.show()"
   ]
  }
 ],
 "metadata": {
  "kernelspec": {
   "display_name": "base",
   "language": "python",
   "name": "python3"
  },
  "language_info": {
   "codemirror_mode": {
    "name": "ipython",
    "version": 3
   },
   "file_extension": ".py",
   "mimetype": "text/x-python",
   "name": "python",
   "nbconvert_exporter": "python",
   "pygments_lexer": "ipython3",
   "version": "3.9.13"
  },
  "orig_nbformat": 4,
  "vscode": {
   "interpreter": {
    "hash": "62fd54318f6a2fa08be4eeaf7e2f88489af61833aae47133177ad67efbdf279b"
   }
  }
 },
 "nbformat": 4,
 "nbformat_minor": 2
}
